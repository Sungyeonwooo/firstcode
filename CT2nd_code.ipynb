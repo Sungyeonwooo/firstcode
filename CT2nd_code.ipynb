{
  "nbformat": 4,
  "nbformat_minor": 0,
  "metadata": {
    "colab": {
      "provenance": [],
      "authorship_tag": "ABX9TyPZAle4fn+saJ5Qc8SeZ/Av",
      "include_colab_link": true
    },
    "kernelspec": {
      "name": "python3",
      "display_name": "Python 3"
    },
    "language_info": {
      "name": "python"
    }
  },
  "cells": [
    {
      "cell_type": "markdown",
      "metadata": {
        "id": "view-in-github",
        "colab_type": "text"
      },
      "source": [
        "<a href=\"https://colab.research.google.com/github/Sungyeonwooo/firstcode/blob/main/CT2nd_code.ipynb\" target=\"_parent\"><img src=\"https://colab.research.google.com/assets/colab-badge.svg\" alt=\"Open In Colab\"/></a>"
      ]
    },
    {
      "cell_type": "markdown",
      "source": [
        "2번째 코딩\n",
        "\n",
        "\n",
        "*   사용자로부터 3개의값을 받아서 합을 내고, 평균을 출력하는 코\n",
        "\n",
        "\n",
        "\n"
      ],
      "metadata": {
        "id": "BQckkmEzKtT9"
      }
    },
    {
      "cell_type": "code",
      "execution_count": 2,
      "metadata": {
        "colab": {
          "base_uri": "https://localhost:8080/"
        },
        "id": "DxDp4fUlGgif",
        "outputId": "fc29d32d-1069-44bb-97e8-e9eb37034c4a"
      },
      "outputs": [
        {
          "output_type": "stream",
          "name": "stdout",
          "text": [
            "N1의 값을 입력하시오.:  40\n",
            "N2의 값을 입력하시오.:  50\n",
            "N3의 값을 입력하시오.:  60\n",
            "50.0\n"
          ]
        }
      ],
      "source": [
        "# @title 기본 제목 텍스트\n",
        "n1 = int(input(\"N1의 값을 입력하시오.: \"))\n",
        "n2 = int(input(\"N2의 값을 입력하시오.: \"))\n",
        "n3 = int(input(\"N3의 값을 입력하시오.: \"))\n",
        "total = n1 + n2 + n3\n",
        "average = total / 3\n",
        "print(average)"
      ]
    }
  ]
}